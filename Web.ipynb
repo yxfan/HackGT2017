{
 "cells": [
  {
   "cell_type": "markdown",
   "metadata": {},
   "source": [
    "# Web Scraping Demo"
   ]
  },
  {
   "cell_type": "markdown",
   "metadata": {},
   "source": [
    "# Overview\n",
    "\n",
    "This notebook will demonstrate some basic use cases for Python web scraping. Although these examples are fairly simple and straightforward, you can think of ways to extend this to more hairy web scraping scenarios!\n",
    "\n",
    "The packages we will be using are:\n",
    "\n",
    "* **`urllib2`** - a built-in Python package to make HTTP requests and pull requested web data into Python.\n",
    "* **`bs4` (Beautiful Soup 4)** - a very powerful Python package for processing text downloaded from the web.\n",
    "* **`pandas`** - a package for formatting and analyzing data in Python using \"data frames\".\n",
    "* **`tweepy`** - an API that directly plugs into Twitter.\n",
    "\n",
    "We will be demonstrating 3 examples:\n",
    "\n",
    "1. **Scraping online voter records.**\n",
    "2. **Scraping Wikipedia.**\n",
    "3. **Scraping Twitter.**\n",
    "\n",
    "Let's get coding!"
   ]
  },
  {
   "cell_type": "markdown",
   "metadata": {},
   "source": [
    "## 1. Scraping online voter records"
   ]
  },
  {
   "cell_type": "markdown",
   "metadata": {},
   "source": [
    "The state of **Oregon** has an amazing open data portal:\n",
    "\n",
    "    https://data.oregon.gov\n",
    "    \n",
    "Amongst other things, we can find the records of registered voter counts by county and party... sounds like we could use that for something. Let's get scraping!"
   ]
  },
  {
   "cell_type": "markdown",
   "metadata": {},
   "source": [
    "**Import relevant libraries** "
   ]
  },
  {
   "cell_type": "code",
   "execution_count": null,
   "metadata": {
    "collapsed": true
   },
   "outputs": [],
   "source": [
    "import urllib2   # HTTP requests\n",
    "import bs4       # Parsing our web data\n",
    "import pandas    # Data formatting and analysis"
   ]
  },
  {
   "cell_type": "markdown",
   "metadata": {},
   "source": [
    "**Reading in data**\n",
    "\n",
    "We first want to download our web page data, which we do using the method **`urlopen()`** from the **`urllib2`** package.\n",
    "\n",
    "We can then feed in this raw data and create our key object - the `soup`, which allows us to intelligently search our huge XML text blob."
   ]
  },
  {
   "cell_type": "code",
   "execution_count": null,
   "metadata": {
    "collapsed": true
   },
   "outputs": [],
   "source": [
    "url = \"https://data.oregon.gov/views/c5a8-vfhd/rows.xml\""
   ]
  },
  {
   "cell_type": "code",
   "execution_count": null,
   "metadata": {
    "collapsed": false
   },
   "outputs": [],
   "source": [
    "response = urllib2.urlopen(url)"
   ]
  },
  {
   "cell_type": "code",
   "execution_count": null,
   "metadata": {
    "collapsed": false
   },
   "outputs": [],
   "source": [
    "xml_text = response.read()\n",
    "soup = bs4.BeautifulSoup(xml_text, \"lxml\")\n",
    "print soup.prettify()[:200]\n",
    "print \"...\""
   ]
  },
  {
   "cell_type": "markdown",
   "metadata": {},
   "source": [
    "**Parsing our web data**\n",
    "\n",
    "The key methods to use for any object that has parsed HTML/XML tags:\n",
    "* **`myTagsObj.findAll(<id>)`** - returns a list of all XML tags contained in **`myTagsObj`** that match that `<id>`.\n",
    "* **`myTagsObj.findChildren()`** - returns all XML tags contained in **`myTagsObj`** (either just one level down or all levels down).\n",
    "\n",
    "Let's use these methods to extract the title (`.name`) and value (`.text`) of each entry for a given row in this XML file:"
   ]
  },
  {
   "cell_type": "code",
   "execution_count": null,
   "metadata": {
    "collapsed": false
   },
   "outputs": [],
   "source": [
    "rows = soup.findAll(\"row\", recursive=True)\n",
    "print \"Number of rows:\" len(rows) - 1"
   ]
  },
  {
   "cell_type": "code",
   "execution_count": null,
   "metadata": {
    "collapsed": false
   },
   "outputs": [],
   "source": [
    "example_row = rows[1]\n",
    "voter_entries = example_row.findChildren()\n",
    "for entry in voter_entries:\n",
    "    print entry.name + \": \" + entry.text"
   ]
  },
  {
   "cell_type": "code",
   "execution_count": null,
   "metadata": {
    "collapsed": false
   },
   "outputs": [],
   "source": [
    "entry_names = []\n",
    "for entry in voter_entries:\n",
    "    entry_names.append(entry.name)\n",
    "print entry_names"
   ]
  },
  {
   "cell_type": "markdown",
   "metadata": {},
   "source": [
    "**Saving and analyzing**\n",
    "\n",
    "Ok great! Now that we have our data, we want to store it in a nice format either for immediate analysis or to save as a csv file for later work. \n",
    "\n",
    "Turns out that the **`pandas`** library is perfect for this, letting us nicely save our data into a data frame:"
   ]
  },
  {
   "cell_type": "code",
   "execution_count": null,
   "metadata": {
    "collapsed": false
   },
   "outputs": [],
   "source": [
    "import pandas as pd\n",
    "\n",
    "\n",
    "# Our data frame (df)\n",
    "df = pd.DataFrame([], columns=entry_names)\n",
    "\n",
    "voters = rows[1:]\n",
    "\n",
    "for voter in voters:\n",
    "    voter_entries = voter.findChildren()\n",
    "    entry_values = []\n",
    "    for entry in voter_entries:\n",
    "        entry_values.append(entry.text)\n",
    "    # Create a new row\n",
    "    df_row = pd.DataFrame([entry_values], columns=entry_names)\n",
    "    # Add row to data frame\n",
    "    df = df.append(df_row)"
   ]
  },
  {
   "cell_type": "code",
   "execution_count": null,
   "metadata": {
    "collapsed": false
   },
   "outputs": [],
   "source": [
    "from IPython.display import display\n",
    "print display(df)"
   ]
  },
  {
   "cell_type": "markdown",
   "metadata": {},
   "source": [
    "... And there we have it! We can now save this to a csv file for later analysis."
   ]
  },
  {
   "cell_type": "code",
   "execution_count": null,
   "metadata": {
    "collapsed": true
   },
   "outputs": [],
   "source": [
    "df.to_csv(\"myOregonVoters.csv\")"
   ]
  },
  {
   "cell_type": "markdown",
   "metadata": {},
   "source": [
    "**Advanced Exercise:** In 2016, which party in Oregon had the most registered voters? Use pandas to calculate this!\n",
    "\n",
    "See docs: http://pandas.pydata.org/"
   ]
  },
  {
   "cell_type": "markdown",
   "metadata": {},
   "source": [
    "## 2. Scraping Wikipedia\n",
    "\n",
    "Alright, now let's say there's a Wikipedia page that contains some juicy data that you want to parse. Perhaps it's the page of your home state with a nice statistics table. Or perhaps the page of a U.S. Senator you'd like to add to your personal Congress database.\n",
    "\n",
    "Let's take the page of our favorite Senator -- we want to keep an eye on her/him, so we're going to scrape some basic background information from her/his Wikipedia page summary:"
   ]
  },
  {
   "cell_type": "code",
   "execution_count": null,
   "metadata": {
    "collapsed": false
   },
   "outputs": [],
   "source": [
    "import bs4\n",
    "import urllib2"
   ]
  },
  {
   "cell_type": "code",
   "execution_count": null,
   "metadata": {
    "collapsed": true
   },
   "outputs": [],
   "source": [
    "d = urllib2.urlopen(\"https://en.wikipedia.org/wiki/Chris_Coons\")"
   ]
  },
  {
   "cell_type": "code",
   "execution_count": null,
   "metadata": {
    "collapsed": true
   },
   "outputs": [],
   "source": [
    "soup = bs4.BeautifulSoup(d.read(), \"html.parser\")\n",
    "info_table = soup.find_all(class_=\"infobox vcard\")"
   ]
  },
  {
   "cell_type": "code",
   "execution_count": null,
   "metadata": {
    "collapsed": true
   },
   "outputs": [],
   "source": [
    "tbl_rows = info_table[0].find_all(\"tr\")\n",
    "for row in tbl_rows:\n",
    "    cells =  row.find_all(\"td\") # table cells\n",
    "    header = row.find(\"th\")\n",
    "    if header != None:\n",
    "        print \"\\nTitle: \" + header.text\n",
    "    if len(cells) != 0:\n",
    "        for cell in cells:\n",
    "            cell_text = cell.text.strip()\n",
    "            if len(cell_text) != 0:\n",
    "                print \"Desc: \" + cell_text"
   ]
  },
  {
   "cell_type": "markdown",
   "metadata": {},
   "source": [
    "Woohoo! With some careful navigation of the HTML structure, we can extract the text fields that we want.\n",
    "\n",
    "**Advanced Exercise:** Try putting this data into a Pandas data frame and saving it!"
   ]
  },
  {
   "cell_type": "markdown",
   "metadata": {},
   "source": [
    "##  3. Scraping Twitter\n",
    "\n",
    "So far we've done a lot of heavy lifting ourselves - we've had to find our web page of interest, pin down where in the source code our data of interest is, and then write some complex `BeautifulSoup` code to extract the data.\n",
    "\n",
    "Are there any data sources that provide their *own* Python API so that we don't have to do as much work!\n",
    "\n",
    "Yes! Check out Twitter's **`tweepy`** package for Python.\n",
    "\n",
    "http://www.tweepy.org/\n",
    "\n",
    "**Access**\n",
    "\n",
    "While `tweepy` provides a very nice API for interfacing with Twitter, in order to actually access it, you will need to create an developer account from here first:\n",
    "https://dev.twitter.com/"
   ]
  },
  {
   "cell_type": "markdown",
   "metadata": {},
   "source": [
    "We can then fill in our credentials that the Tweepy authorization object asks of us:"
   ]
  },
  {
   "cell_type": "code",
   "execution_count": 1,
   "metadata": {
    "collapsed": true
   },
   "outputs": [],
   "source": [
    "import tweepy\n",
    "\n",
    "ckey    = \"jGJsmFgEi6wdPeFo8hvpryQrQ\"                          # consumer key\n",
    "csecret = \"Ff5X4QeVYHGGikeBN03l9ooHCb0x3tOPhmEpWGi8kTnLFloFLC\" # consumer scret\n",
    "atoken  = \"731185387-O34WQW8MmjWtvaW72tuhz4hfAkZZ3p7RYqOP3nel\" # access token\n",
    "asecret = \"NwoGqLCwwmFd7hjejry9hP9MbZUYaWfQrS4egWZi3Jp7A\"      # access secret\n",
    "    "
   ]
  },
  {
   "cell_type": "markdown",
   "metadata": {},
   "source": [
    "... and access the actual API:"
   ]
  },
  {
   "cell_type": "code",
   "execution_count": 2,
   "metadata": {
    "collapsed": true
   },
   "outputs": [],
   "source": [
    "# Instantiate OAuthHandler and initialize it with your credentials\n",
    "# (i.e. secure \"handshake\" with the API)\n",
    "auth = tweepy.OAuthHandler(ckey, csecret)\n",
    "auth.set_access_token(atoken, asecret)\n",
    " \n",
    "# Instantiate the tweepy API object.\n",
    "api = tweepy.API(auth)"
   ]
  },
  {
   "cell_type": "markdown",
   "metadata": {},
   "source": [
    "We're ready to grab some tweets now! Let's pick someone of interest ..."
   ]
  },
  {
   "cell_type": "code",
   "execution_count": 3,
   "metadata": {
    "collapsed": false
   },
   "outputs": [
    {
     "name": "stdout",
     "output_type": "stream",
     "text": [
      "=======================================\n",
      "@realDonaldTrump\n",
      "\n",
      "Tweeter follower count: 28195415\n",
      "Tweeter description: 45th President of the United States of America\n",
      "=======================================\n"
     ]
    }
   ],
   "source": [
    "\n",
    "example_user = \"realDonaldTrump\"\n",
    "tweeter = api.get_user(example_user)\n",
    "\n",
    "print \"=======================================\"\n",
    "print \"@\" + example_user\n",
    "print \"\\nTweeter follower count: \" + str(tweeter.followers_count)\n",
    "print \"Tweeter description: \" + tweeter.description\n",
    "print \"=======================================\""
   ]
  },
  {
   "cell_type": "markdown",
   "metadata": {},
   "source": [
    "Now let's grab their last 100 tweets:"
   ]
  },
  {
   "cell_type": "code",
   "execution_count": 4,
   "metadata": {
    "collapsed": false
   },
   "outputs": [
    {
     "name": "stdout",
     "output_type": "stream",
     "text": [
      "Tweet: 'Presidential Executive Order on Identifying and Reducing Tax Regulatory Burdens' \n",
      "Executive Order:… https://t.co/dpE6hDzlAt\n",
      "\n",
      "\n",
      "Tweet: RT @Scavino45: .@POTUS @realDonaldTrump, @IvankaTrump, Jared Kushner, &amp; Dina Powell in the Oval Office today w/ Aya &amp; her brother Basel.\n",
      "#W…\n",
      "\n",
      "\n",
      "Tweet: WELCOME HOME, AYA!\n",
      "#GodBlessTheUSA🇺🇸 https://t.co/CR4I8dvunc\n",
      "\n",
      "\n",
      "Tweet: China is very much the economic lifeline to North Korea so, while nothing is easy, if they want to solve the North Korean problem, they will\n",
      "\n",
      "\n",
      "Tweet: No matter how much I accomplish during the ridiculous standard of the first 100 days, &amp; it has been a lot (including S.C.), media will kill!\n",
      "\n",
      "\n",
      "Tweet: Another terrorist attack in Paris. The people of France will not take much more of this. Will have a big effect on presidential election!\n",
      "\n",
      "\n",
      "Tweet: RT @foxandfriends: NYT editor apologizes for misleading tweet about New England Patriots' visit to the White House (via @FoxFriendsFirst) h…\n",
      "\n",
      "\n",
      "Tweet: A great honor to host PM Paolo Gentiloni of Italy at the White House this afternoon! #ICYMI- Joint Press Conference… https://t.co/lJAvEZJV1F\n",
      "\n",
      "\n",
      "Tweet: We're going to use American steel, we're going to use American labor, we are going to come first in all deals. ➡️… https://t.co/QYjWx9K4YY\n",
      "\n",
      "\n",
      "Tweet: Failing @nytimes, which has been calling me wrong for two years, just got caught in a big lie concerning New England Patriots visit to W.H.\n",
      "\n",
      "\n",
      "Tweet: A great honor to host the @SuperBowl Champion New England @Patriots at the White House today. Congratulations!… https://t.co/tQ5XEPaIxn\n",
      "\n",
      "\n",
      "Tweet: Today I signed the Veterans (OUR HEROES) Choice Program Extension &amp; Improvement Act @ the @WhiteHouse. #S544 \n",
      "Watch… https://t.co/0sMv4sPrmf\n",
      "\n",
      "\n",
      "Tweet: #BuyAmericanHireAmerican🇺🇸 https://t.co/JPEXQTVR1E\n",
      "\n",
      "\n",
      "Tweet: Dems failed in Kansas and are now failing in Georgia. Great job Karen Handel! It is now Hollywood vs. Georgia on June 20th.\n",
      "\n",
      "\n",
      "Tweet: Despite major outside money, FAKE media support and eleven Republican candidates, BIG \"R\" win with runoff in Georgia. Glad to be of help!\n",
      "\n",
      "\n",
      "Tweet: #BuyAmericanHireAmerican🇺🇸\n",
      "Watch➡️https://t.co/AUqYcrgeyn https://t.co/rf9aivVb7g\n",
      "\n",
      "\n",
      "Tweet: Just learned that Jon @Ossoff, who is running for Congress in Georgia, doesn't even live in the district. Republicans, get out and vote!\n",
      "\n",
      "\n",
      "Tweet: Republicans must get out today and VOTE in Georgia 6. Force runoff and easy win! Dem Ossoff will raise your taxes-very bad on crime &amp; 2nd A.\n",
      "\n",
      "\n",
      "Tweet: Democrat Jon Ossoff would be a disaster in Congress. VERY weak on crime and illegal immigration, bad for jobs and wants higher taxes. Say NO\n",
      "\n",
      "\n",
      "Tweet: I will be interviewed on @foxandfriends by @ainsleyearhardt starting at 6:00 A.M. Enjoy!\n",
      "\n",
      "\n",
      "Tweet: The weak illegal immigration policies of the Obama Admin. allowed bad MS 13 gangs to form in cities across U.S. We are removing them fast!\n",
      "\n",
      "\n",
      "Tweet: With eleven Republican candidates running in Georgia (on Tuesday) for Congress, a runoff will be a win. Vote \"R\" for lower taxes &amp; safety!\n",
      "\n",
      "\n",
      "Tweet: See you tomorrow Wisconsin!\n",
      "\n",
      "'Trump spurs small-business optimism in Milwaukee area'\n",
      "https://t.co/JUxhO3oqjO\n",
      "\n",
      "\n",
      "Tweet: TRUMP APPROVAL HITS 50%\n",
      "https://t.co/vjZkGTyQb9\n",
      "\n",
      "\n",
      "Tweet: RT @DRUDGE_REPORT: TRUMP APPROVAL HITS 50% https://t.co/TruX3WzR3U\n",
      "\n",
      "\n",
      "Tweet: The super Liberal Democrat in the Georgia Congressioal race tomorrow wants to protect criminals, allow illegal immigration and raise taxes!\n",
      "\n",
      "\n",
      "Tweet: The Fake Media (not Real Media) has gotten even worse since the election. Every story is badly slanted. We have to hold them to the truth!\n",
      "\n",
      "\n",
      "Tweet: A great book for your reading enjoyment: \"REASONS TO VOTE FOR DEMOCRATS\" by Michael J. Knowles.\n",
      "\n",
      "\n",
      "Tweet: \"The first 90 days of my presidency has exposed the total failure of the last eight years of foreign policy!\" So true. @foxandfriends\n",
      "\n",
      "\n",
      "Tweet: The recent Kansas election (Congress) was a really big media event, until the Republicans won. Now they play the same game with Georgia-BAD!\n",
      "\n",
      "\n",
      "Tweet: Our military is building and is rapidly becoming stronger than ever before. Frankly, we have no choice!\n",
      "\n",
      "\n",
      "Tweet: Someone should look into who paid for the small organized rallies yesterday. The election is over!\n",
      "\n",
      "\n",
      "Tweet: I did what was an almost an impossible thing to do for a Republican-easily won the Electoral College! Now Tax Returns are brought up again?\n",
      "\n",
      "\n",
      "Tweet: Happy Easter to everyone!\n",
      "\n",
      "\n",
      "Tweet: Why would I call China a currency manipulator when they are working with us on the North Korean problem? We will see what happens!\n",
      "\n",
      "\n",
      "Tweet: RT @FLOTUS: Looking forward to hosting the annual Easter Egg Roll at the @WhiteHouse on Monday! https://t.co/nz7vucugx9\n",
      "\n",
      "\n",
      "Tweet: Weekly Address- https://t.co/tpZ7eqJLUH https://t.co/B2NQzj53ft\n",
      "\n",
      "\n",
      "Tweet: RT @DRUDGE_REPORT: GREAT AGAIN: FEDS ARREST MURDER SUSPECT IN 'FAST AND FURIOUS' SCANDAL... https://t.co/clOLxTE3D4\n",
      "\n",
      "\n",
      "Tweet: It was a great honor to welcome Atlanta's heroic first responders to the White House this afternoon! https://t.co/ZtC14AJ0xs\n",
      "\n",
      "\n",
      "Tweet: Things will work out fine between the U.S.A. and Russia. At the right time everyone will come to their senses &amp; there will be lasting peace!\n",
      "\n",
      "\n",
      "Tweet: I have great confidence that China will properly deal with North Korea. If they are unable to do so, the U.S., with its allies, will! U.S.A.\n",
      "\n",
      "\n",
      "Tweet: Jobs are returning, illegal immigration is plummeting, law, order and justice are being restored. We are truly making America great again!\n",
      "\n",
      "\n",
      "Tweet: One by one we are keeping our promises - on the border, on energy, on jobs, on regulations. Big changes are happening!\n",
      "\n",
      "\n",
      "Tweet: Economic confidence is soaring as we unleash the power of private sector job creation and stand up for the American Workers. #AmericaFirst\n",
      "\n",
      "\n",
      "Tweet: Great meeting w/ NATO Sec. Gen. We agreed on the importance of getting countries to pay their fair share &amp; focus on… https://t.co/G9TdjWezmH\n",
      "\n",
      "\n",
      "Tweet: Great win in Kansas last night for Ron Estes, easily winning the Congressional race against the Dems, who spent heavily &amp; predicted victory!\n",
      "\n",
      "\n",
      "Tweet: Had a very good call last night with the President of China concerning the menace of North Korea.\n",
      "\n",
      "\n",
      "Tweet: I will be interviewed by @MariaBartiromo at 6:00 A.M. @FoxBusiness. Enjoy!\n",
      "\n",
      "\n",
      "Tweet: Great Strategic &amp; Policy CEO Forum today with my Cabinet Secretaries and top CEO's from around the United States.… https://t.co/pmGIL08OpP\n",
      "\n",
      "\n",
      "Tweet: Ron Estes is running TODAY for Congress in the Great State of Kansas. A wonderful guy, I need his help on Healthcare &amp; Tax Cuts (Reform).\n",
      "\n",
      "\n",
      "Tweet: North Korea is looking for trouble. If China decides to help, that would be great. If not, we will solve the problem without them!  U.S.A.\n",
      "\n",
      "\n",
      "Tweet: I explained to the President of China that a trade deal with the U.S. will be far better for them if they solve the North Korean problem!\n",
      "\n",
      "\n",
      "Tweet: RT @foxnation: Grateful Syrians React To @realDonaldTrump Strike: 'I'll Name My Son Donald' https://t.co/7KexXsXLUx #SyrianStrikes\n",
      "\n",
      "\n",
      "Tweet: Happy Passover to everyone celebrating in the United States of America, Israel, and around the world. #ChagSameach\n",
      "\n",
      "\n",
      "Tweet: Congratulations to Justice Neil Gorsuch on his elevation to the United States Supreme Court. A great day for Americ… https://t.co/RM9lfTaePS\n",
      "\n",
      "\n",
      "Tweet: Thank you @USNavy! #USA https://t.co/oD7L8vPgjq\n",
      "\n",
      "\n",
      "Tweet: ...confidence that President Al Sisi will handle situation properly.\n",
      "\n",
      "\n",
      "Tweet: So sad to hear of the terrorist attack in Egypt. U.S. strongly condemns. I have great...\n",
      "\n",
      "\n",
      "Tweet: Judge Gorsuch will be sworn in at the Rose Garden of the White House on Monday at 11:00 A.M. He will be a great Justice. Very proud of him!\n",
      "\n",
      "\n",
      "Tweet: The reason you don't generally hit runways is that they are easy and inexpensive to quickly fix (fill in and top)!\n",
      "\n",
      "\n",
      "Tweet: Congratulations to our great military men and women for representing the United States, and the world, so well in the Syria attack.\n",
      "\n",
      "\n",
      "Tweet: ...goodwill and friendship was formed, but only time will tell on trade.\n",
      "\n",
      "\n",
      "Tweet: It was a great honor to have President Xi Jinping and Madame Peng Liyuan of China as our guests in the United States. Tremendous...\n",
      "\n",
      "\n",
      "Tweet: RT @IvankaTrump: Very proud of Arabella and Joseph for their performance in honor of President Xi Jinping and Madame Peng Liyuan's official…\n",
      "\n",
      "\n",
      "Tweet: It was an honor to host our American heroes from the @WWP #SoldierRideDC at the @WhiteHouse today with @FLOTUS, @VP… https://t.co/u5AI1pupVV\n",
      "\n",
      "\n",
      "Tweet: JOBS, JOBS, JOBS!\n",
      "https://t.co/XGOQPHywrt https://t.co/B5Qbn6llzE\n",
      "\n",
      "\n",
      "Tweet: I am deeply committed to preserving our strong relationship &amp; to strengthening America's long-standing support for… https://t.co/GxrOR3ALCE\n",
      "\n",
      "\n",
      "Tweet: Great to talk jobs with #NABTU2017. Tremendous spirit &amp; optimism - we will deliver! https://t.co/6lRuQZZHrc\n",
      "\n",
      "\n",
      "Tweet: Thank you Sean McGarvey &amp; the entire Governing Board of Presidents for honoring me w/an invite to speak. #NABTU2017… https://t.co/dJlZvlq6Tj\n",
      "\n",
      "\n",
      "Tweet: .@WhiteHouse #CEOTownHall\n",
      "➡️https://t.co/ADSKuUXf1b https://t.co/XHfQ6zmF2H\n",
      "\n",
      "\n",
      "Tweet: RT @DRUDGE_REPORT: RICE ORDERED SPY DOCS ON TRUMP? https://t.co/bL2nZRFxk9\n",
      "\n",
      "\n",
      "Tweet: It was an honor to welcome President Al Sisi of Egypt to the @WhiteHouse as we renew the historic partnership betwe… https://t.co/9mRaGvcPHz\n",
      "\n",
      "\n",
      "Tweet: Looking forward to hosting our heroes from the Wounded Warrior Project (@WWP) Soldier Ride to the @WhiteHouse on Th… https://t.co/QLC0qFD94x\n",
      "\n",
      "\n",
      "Tweet: Getting ready to meet President al-Sisi of Egypt. On behalf of the United States, I look forward to a long and wonderful relationship.\n",
      "\n",
      "\n",
      "Tweet: .@FoxNews from multiple sources: \"There was electronic surveillance of Trump, and people close to Trump. This is unprecedented.\" @FBI\n",
      "\n",
      "\n",
      "Tweet: Did Hillary Clinton ever apologize for receiving the answers to the debate? Just asking!\n",
      "\n",
      "\n",
      "Tweet: Was the brother of John Podesta paid big money to get the sanctions on Russia lifted? Did Hillary know?\n",
      "\n",
      "\n",
      "Tweet: Such amazing reporting on unmasking and the crooked scheme against us by @foxandfriends. \"Spied on before nomination.\" The real story.\n",
      "\n",
      "\n",
      "Tweet: Melania and I are honored to light up the @WhiteHouse this evening, for \n",
      "#WorldAutismAwarenessDay. Join us &amp; #LIUB.… https://t.co/tR3hqqyWvv\n",
      "\n",
      "\n",
      "Tweet: The real story turns out to be SURVEILLANCE and LEAKING! Find the leakers.\n",
      "\n",
      "\n",
      "Tweet: Talks on Repealing and Replacing ObamaCare are, and have been, going on, and will continue until such time as a deal is hopefully struck.\n",
      "\n",
      "\n",
      "Tweet: Anybody (especially  Fake News media) who thinks that Repeal &amp; Replace of ObamaCare is dead does not know the love and strength in R Party!\n",
      "\n",
      "\n",
      "Tweet: Thank you @JCLayfield -- will get even better as my Administration continues to put #AmericaFirst🇺🇸 https://t.co/AQQzmt10x7\n",
      "\n",
      "\n",
      "Tweet: ..not associated with Russia. Trump team spied on before he was nominated.\" If this is true, does not get much bigger. Would be sad for U.S.\n",
      "\n",
      "\n",
      "Tweet: Wow, @FoxNews just reporting big news. Source: \"Official behind unmasking is high up. Known Intel official is responsible. Some unmasked....\n",
      "\n",
      "\n",
      "Tweet: ...use subsidies to buy health plans.\" In other words, Ocare is dead. Good things will happen, however, either with Republicans or Dems.\n",
      "\n",
      "\n",
      "Tweet: The failing @nytimes finally gets it - \"In places where no insurance company offers plans, there will be no way for ObamaCare customers to..\n",
      "\n",
      "\n",
      "Tweet: It is the same Fake News Media that said there is \"no path to victory for Trump\" that is now pushing the phony Russia story. A total scam!\n",
      "\n",
      "\n",
      "Tweet: When will Sleepy Eyes Chuck Todd and @NBCNews start talking about the Obama SURVEILLANCE SCANDAL and stop with the Fake Trump/Russia story?\n",
      "\n",
      "\n",
      "Tweet: We are going to defend our industry &amp; create a level playing field for the American worker. It is time to put… https://t.co/dzPKJMghj1\n",
      "\n",
      "\n",
      "Tweet: 'Trump Celebrates American Manufacturing Survey Showing Highest Level of Optimism in 20 Years' ➡️… https://t.co/cVWXOa1MjY\n",
      "\n",
      "\n",
      "Tweet: It is an exciting time for our country!\n",
      "#WeeklyAddress #ConfirmGorsuch https://t.co/tP4bkvTOBq\n",
      "\n",
      "\n",
      "Tweet: #ConfirmGorsuch #SCOTUS https://t.co/WkqHYMcYa3\n",
      "\n",
      "\n",
      "Tweet: Great meeting with a wonderful woman today, former Secretary of State, Condoleezza Rice! #USA🇺🇸 https://t.co/ZuriIC3YwG\n",
      "\n",
      "\n",
      "Tweet: It was an honor to welcome the Prime Minister of Denmark, Lars Løkke Rasmussen {@larsloekke} to the @WhiteHouse yes… https://t.co/N1g0TiVnSp\n",
      "\n",
      "\n",
      "Tweet: Mike Flynn should ask for immunity in that this is a witch hunt (excuse for big election loss), by media &amp; Dems, of historic proportion!\n",
      "\n",
      "\n",
      "Tweet: Only by enlisting the full potential of women in our society will we be truly able to #MakeAmericaGreatAgain🇺🇸… https://t.co/cxhgYaxiek\n",
      "\n",
      "\n",
      "Tweet: ...and job losses. American companies must be prepared to look at other alternatives.\n",
      "\n",
      "\n",
      "Tweet: The meeting next week with China will be a very difficult one in that we can no longer have massive trade deficits...\n",
      "\n",
      "\n",
      "Tweet: Where are @RepMarkMeadows, @Jim_Jordan and @Raul_Labrador?\n",
      "#RepealANDReplace #Obamacare\n",
      "\n",
      "\n"
     ]
    }
   ],
   "source": [
    "tweets = api.user_timeline(id=tweeter.id, count=100)\n",
    "\n",
    "for tweet in tweets:\n",
    "    print \"Tweet: \" + tweet.text\n",
    "    print \"\\n\""
   ]
  },
  {
   "cell_type": "markdown",
   "metadata": {},
   "source": [
    "Again, let's save this to a dataframe and see what we have:"
   ]
  },
  {
   "cell_type": "code",
   "execution_count": null,
   "metadata": {
    "collapsed": false
   },
   "outputs": [],
   "source": [
    "df = pd.DataFrame([], columns=[\"user\", \"tweet\", \"date\"])"
   ]
  },
  {
   "cell_type": "code",
   "execution_count": null,
   "metadata": {
    "collapsed": false
   },
   "outputs": [],
   "source": [
    "for tweet in tweets:\n",
    "    row_data = [example_user, tweet.text, tweet.created_at]\n",
    "    df_row = pd.DataFrame([row_data], columns=[\"user\", \"tweet\", \"date\"])\n",
    "    df = df.append(df_row)"
   ]
  },
  {
   "cell_type": "code",
   "execution_count": null,
   "metadata": {
    "collapsed": false
   },
   "outputs": [],
   "source": [
    "from IPython.display import display\n",
    "print display(df)"
   ]
  },
  {
   "cell_type": "markdown",
   "metadata": {},
   "source": [
    "**Advanced Exercise:** Find a user that has *geocoded* tweets and create a data frame of Tweets with their tweeting locations (use the Tweepy docs to help you out)."
   ]
  },
  {
   "cell_type": "markdown",
   "metadata": {},
   "source": [
    "# Conclusion\n",
    "\n",
    "Web scraping is tough. Some of it is tedious manual inspection; a lot of it is referring to documentation for highly specific functions.\n",
    "\n",
    "However, no need to fear! You have just successfully scraped three different data sources and worked with some complex Python packages in the process. With your knowledge and this notebook as a reference, you now have a basic toolkit to web scrape any and all corners of the world wide web!"
   ]
  }
 ],
 "metadata": {
  "kernelspec": {
   "display_name": "Python 2",
   "language": "python",
   "name": "python2"
  },
  "language_info": {
   "codemirror_mode": {
    "name": "ipython",
    "version": 2
   },
   "file_extension": ".py",
   "mimetype": "text/x-python",
   "name": "python",
   "nbconvert_exporter": "python",
   "pygments_lexer": "ipython2",
   "version": "2.7.13"
  }
 },
 "nbformat": 4,
 "nbformat_minor": 2
}
