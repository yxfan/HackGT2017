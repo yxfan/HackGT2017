{
 "cells": [
  {
   "cell_type": "markdown",
   "metadata": {},
   "source": [
    "# Python Fundamentals"
   ]
  },
  {
   "cell_type": "markdown",
   "metadata": {},
   "source": [
    "## Overview\n",
    "\n",
    "Welcome! In this Jupyter notebook, we are going to go over some fundamentals of the Python programming language.\n",
    "\n",
    "When we're learning a new language, we usually start by writing a one-line program that prints the message \"Hello world!\". This is a simple program that shows whether your computer is properly set up to run Python programs."
   ]
  },
  {
   "cell_type": "code",
   "execution_count": 2,
   "metadata": {
    "collapsed": false
   },
   "outputs": [
    {
     "name": "stdout",
     "output_type": "stream",
     "text": [
      "Hello world!\n"
     ]
    }
   ],
   "source": [
    "print \"Hello world!\""
   ]
  },
  {
   "cell_type": "markdown",
   "metadata": {},
   "source": [
    "If the correct output `\"Hello world!\"` was displayed ... congrats, you've just ran your first Python program."
   ]
  },
  {
   "cell_type": "markdown",
   "metadata": {
    "collapsed": true
   },
   "source": [
    "## Basic types\n",
    "\n",
    "First we're going to go over the most fundamental building blocks of Python which are the basic unit data types. <br>\n",
    "\n",
    "As you would expect, Python has a data type for integers (`int`), strings (`str`), booleans (`bool`), and for floating point numbers/decimals (`float`). If you're familiar with R, these types pretty much directly translate with minor syntactical differences."
   ]
  },
  {
   "cell_type": "code",
   "execution_count": 1,
   "metadata": {
    "collapsed": false
   },
   "outputs": [],
   "source": [
    "## You can write comments with a single `#`\n",
    "\n",
    "a = 2\n",
    "b = \"Hello world\"\n",
    "c = 42.0\n",
    "d = \"\"\"\n",
    "    This is a multiline string.\n",
    "    \"\"\"\n",
    "e = True"
   ]
  },
  {
   "cell_type": "markdown",
   "metadata": {},
   "source": [
    "To print the value of an object, simply use the `print` function:"
   ]
  },
  {
   "cell_type": "code",
   "execution_count": null,
   "metadata": {
    "collapsed": false
   },
   "outputs": [],
   "source": [
    "print a\n",
    "print b\n",
    "print c\n",
    "print e"
   ]
  },
  {
   "cell_type": "markdown",
   "metadata": {},
   "source": [
    "To print the *type* of an object, simple use the `type` function:"
   ]
  },
  {
   "cell_type": "code",
   "execution_count": null,
   "metadata": {
    "collapsed": false
   },
   "outputs": [],
   "source": [
    "print type(a)\n",
    "print type(b)\n",
    "print type(c)"
   ]
  },
  {
   "cell_type": "markdown",
   "metadata": {},
   "source": [
    "We can perform basic arithmetic using the operators we know and love:"
   ]
  },
  {
   "cell_type": "code",
   "execution_count": null,
   "metadata": {
    "collapsed": true
   },
   "outputs": [],
   "source": [
    "print a + c\n",
    "print c / 2\n",
    "print c % 2\n",
    "print a * c\n",
    "print a ** c"
   ]
  },
  {
   "cell_type": "markdown",
   "metadata": {},
   "source": [
    "What happens when we perform operations across types?"
   ]
  },
  {
   "cell_type": "code",
   "execution_count": null,
   "metadata": {
    "collapsed": false
   },
   "outputs": [],
   "source": [
    "w = 1\n",
    "x = 42.0\n",
    "y = \" Illuminati \"\n",
    "z = True\n",
    "print \" (\" + w + \".) \" + x + y + \" == \" + z"
   ]
  },
  {
   "cell_type": "markdown",
   "metadata": {},
   "source": [
    "## String Parsing\n",
    "\n",
    "Python has a wide variety of powerful string parsing tools. What do the following operations do?"
   ]
  },
  {
   "cell_type": "markdown",
   "metadata": {},
   "source": [
    "**Concatenation**"
   ]
  },
  {
   "cell_type": "code",
   "execution_count": null,
   "metadata": {
    "collapsed": false
   },
   "outputs": [],
   "source": [
    "b2 = \",\".join([b, b])\n",
    "print b2"
   ]
  },
  {
   "cell_type": "markdown",
   "metadata": {},
   "source": [
    "**Stripping whitespace**"
   ]
  },
  {
   "cell_type": "code",
   "execution_count": null,
   "metadata": {
    "collapsed": true
   },
   "outputs": [],
   "source": [
    "s1 = \"        Good bye\"\n",
    "s1 = s1.strip()\n",
    "print s1\n",
    "\n",
    "s2 = \"Hello        \"\n",
    "s2 = s2.strip()\n",
    "print s2"
   ]
  },
  {
   "cell_type": "markdown",
   "metadata": {},
   "source": [
    "**Formatting strings**"
   ]
  },
  {
   "cell_type": "code",
   "execution_count": null,
   "metadata": {
    "collapsed": true
   },
   "outputs": [],
   "source": [
    "print \"You say '%s' and I say '%s'\" % (s1, s2)"
   ]
  },
  {
   "cell_type": "markdown",
   "metadata": {},
   "source": [
    "## Data structures\n",
    "\n",
    "Now, we're going to move onto data types that can collect and organize multiple variables of other data types (data structures). \n",
    "\n",
    "In Python, these are: \n",
    "* **lists** - ordered arrays of variables (can be mixed types). \n",
    "* **tuples** - immutable versions of lists.\n",
    "* **dictionaries** - values are accessed using keys instead of indices."
   ]
  },
  {
   "cell_type": "code",
   "execution_count": 10,
   "metadata": {
    "collapsed": false
   },
   "outputs": [],
   "source": [
    "friends = [ \"bartlet\", \"seaborn\", \"lyman\", \"ziegler\" ]\n",
    "numbers = ( 12, 34, 56, 78 )\n",
    "\n",
    "contacts = {\n",
    "    \"bartlet\" : 12,\n",
    "    \"seaborn\" : 34,\n",
    "    \"lyman\" : 56,\n",
    "    \"ziegler\" : 78\n",
    "}\n",
    "\n",
    "print type(friends)\n",
    "print type(numbers)\n",
    "print type(contacts)\n",
    "\n",
    "print friends\n",
    "print numbers\n",
    "print contacts"
   ]
  },
  {
   "cell_type": "markdown",
   "metadata": {},
   "source": [
    "What's the difference between a *mutable* and *immutable* data structure?"
   ]
  },
  {
   "cell_type": "code",
   "execution_count": null,
   "metadata": {
    "collapsed": false
   },
   "outputs": [],
   "source": [
    "friends[0] = \"kramer\"\n",
    "numbers[0] = \"911\""
   ]
  },
  {
   "cell_type": "markdown",
   "metadata": {},
   "source": [
    "Data structures can be accessed in a number of different ways (**indexing** and **slicing**)"
   ]
  },
  {
   "cell_type": "code",
   "execution_count": null,
   "metadata": {
    "collapsed": false
   },
   "outputs": [],
   "source": [
    "print friends[0]          # index [i]"
   ]
  },
  {
   "cell_type": "code",
   "execution_count": null,
   "metadata": {
    "collapsed": true
   },
   "outputs": [],
   "source": [
    "print numbers[1:3]        # slice [start:end]"
   ]
  },
  {
   "cell_type": "code",
   "execution_count": null,
   "metadata": {
    "collapsed": true
   },
   "outputs": [],
   "source": [
    "print contacts[\"bartlet\"]   # index [key]"
   ]
  },
  {
   "cell_type": "markdown",
   "metadata": {},
   "source": [
    "### Lists\n",
    "\n",
    "The following are some powerful ways to manipulate **lists**:"
   ]
  },
  {
   "cell_type": "code",
   "execution_count": null,
   "metadata": {
    "collapsed": false
   },
   "outputs": [],
   "source": [
    "print len(friends)                      # length"
   ]
  },
  {
   "cell_type": "code",
   "execution_count": null,
   "metadata": {
    "collapsed": true
   },
   "outputs": [],
   "source": [
    "print friends + [\"chandler\", 9]         # concatenation"
   ]
  },
  {
   "cell_type": "code",
   "execution_count": null,
   "metadata": {
    "collapsed": true
   },
   "outputs": [],
   "source": [
    "print friends * 4                       # repetition"
   ]
  },
  {
   "cell_type": "code",
   "execution_count": null,
   "metadata": {
    "collapsed": true
   },
   "outputs": [],
   "source": [
    "print 1 in [1,2,3]                      # membership"
   ]
  },
  {
   "cell_type": "code",
   "execution_count": null,
   "metadata": {
    "collapsed": true
   },
   "outputs": [],
   "source": [
    "print max([0,1,2,3,4,5])"
   ]
  },
  {
   "cell_type": "code",
   "execution_count": null,
   "metadata": {
    "collapsed": true
   },
   "outputs": [],
   "source": [
    "print min([0,1,2,3,4,5])"
   ]
  },
  {
   "cell_type": "code",
   "execution_count": null,
   "metadata": {
    "collapsed": true
   },
   "outputs": [],
   "source": [
    "print len([0,1,2,3,4,5])"
   ]
  },
  {
   "cell_type": "code",
   "execution_count": null,
   "metadata": {
    "collapsed": true
   },
   "outputs": [],
   "source": [
    "print friends.count(\"bartlet\")\n",
    "print friends.count(\"trump\")"
   ]
  },
  {
   "cell_type": "markdown",
   "metadata": {},
   "source": [
    "... and of course, many other methods! \n",
    "\n",
    "**Note that some methods occur in place (changes the object) while other methods have a return value.**\n",
    "\n",
    "What do the following list methods do?"
   ]
  },
  {
   "cell_type": "code",
   "execution_count": 14,
   "metadata": {
    "collapsed": false
   },
   "outputs": [
    {
     "name": "stdout",
     "output_type": "stream",
     "text": [
      "['strong in you', 'the force is', ',', 'young luke']\n",
      "['young luke', ',', 'the force is', 'strong in you']\n"
     ]
    }
   ],
   "source": [
    "aa = [\"strong in you\", \"the force is\", \",\", \"young luke\"]\n",
    "print aa\n",
    "aa.reverse()\n",
    "print aa"
   ]
  },
  {
   "cell_type": "code",
   "execution_count": 15,
   "metadata": {
    "collapsed": false
   },
   "outputs": [
    {
     "name": "stdout",
     "output_type": "stream",
     "text": [
      "[',', 'strong in you', 'the force is', 'young luke']\n"
     ]
    }
   ],
   "source": [
    "print sorted(aa)"
   ]
  },
  {
   "cell_type": "code",
   "execution_count": 16,
   "metadata": {
    "collapsed": false
   },
   "outputs": [
    {
     "name": "stdout",
     "output_type": "stream",
     "text": [
      "['young luke', ',', 'the force is', 'strong in you', '?']\n"
     ]
    }
   ],
   "source": [
    "aa.append(\"?\")\n",
    "print aa"
   ]
  },
  {
   "cell_type": "code",
   "execution_count": 17,
   "metadata": {
    "collapsed": false
   },
   "outputs": [
    {
     "name": "stdout",
     "output_type": "stream",
     "text": [
      "?\n"
     ]
    }
   ],
   "source": [
    "print aa.pop()"
   ]
  },
  {
   "cell_type": "code",
   "execution_count": 18,
   "metadata": {
    "collapsed": false
   },
   "outputs": [
    {
     "name": "stdout",
     "output_type": "stream",
     "text": [
      "['young luke', ',', 'the force is', 'not', 'strong in you']\n"
     ]
    }
   ],
   "source": [
    "aa.insert(3, \"kinda\")\n",
    "print aa"
   ]
  },
  {
   "cell_type": "code",
   "execution_count": 19,
   "metadata": {
    "collapsed": false
   },
   "outputs": [
    {
     "name": "stdout",
     "output_type": "stream",
     "text": [
      "young luke , the force is not strong in you\n"
     ]
    }
   ],
   "source": [
    "print \" \".join(aa)"
   ]
  },
  {
   "cell_type": "markdown",
   "metadata": {},
   "source": [
    "### Dictionaries\n",
    "\n",
    "The following are some methods to access **dictionaries**:"
   ]
  },
  {
   "cell_type": "code",
   "execution_count": null,
   "metadata": {
    "collapsed": false
   },
   "outputs": [],
   "source": [
    "print contacts.keys()"
   ]
  },
  {
   "cell_type": "code",
   "execution_count": null,
   "metadata": {
    "collapsed": true
   },
   "outputs": [],
   "source": [
    "print contacts.values()"
   ]
  },
  {
   "cell_type": "code",
   "execution_count": null,
   "metadata": {
    "collapsed": true
   },
   "outputs": [],
   "source": [
    "print list(contacts.iteritems())"
   ]
  },
  {
   "cell_type": "markdown",
   "metadata": {},
   "source": [
    "For more details, refer to the Python 2.7 docs:\n",
    "\n",
    "https://docs.python.org/2.7/library/stdtypes.html\n",
    "\n"
   ]
  },
  {
   "cell_type": "markdown",
   "metadata": {},
   "source": [
    "## Control Flows\n",
    "\n",
    "Control flow is very straight forward in Python, but can also be powerfully augmented using *functional* programming (see later on for more!).\n",
    "\n",
    "Note that in Python, **indentation does matter**. Be careful of this when creating complex control flows (nested loops, etc.).\n",
    "\n",
    "\n",
    "Types of control flows:\n",
    "* for / while loops\n",
    "* functions"
   ]
  },
  {
   "cell_type": "markdown",
   "metadata": {},
   "source": [
    "**A for-loop**"
   ]
  },
  {
   "cell_type": "code",
   "execution_count": 29,
   "metadata": {
    "collapsed": false
   },
   "outputs": [
    {
     "name": "stdout",
     "output_type": "stream",
     "text": [
      "None\n",
      "Hello world\n",
      "42.0\n"
     ]
    }
   ],
   "source": [
    "for obj in [a, b, c]:\n",
    "    print obj"
   ]
  },
  {
   "cell_type": "markdown",
   "metadata": {},
   "source": [
    "**A for-loop with enumeration**"
   ]
  },
  {
   "cell_type": "code",
   "execution_count": 30,
   "metadata": {
    "collapsed": false
   },
   "outputs": [
    {
     "name": "stdout",
     "output_type": "stream",
     "text": [
      "0.) None\n",
      "1.) Hello world\n",
      "2.) 42.0\n"
     ]
    }
   ],
   "source": [
    "for i, obj in enumerate([a, b, c]):\n",
    "    print \"%i.) %s\" % (i, obj)"
   ]
  },
  {
   "cell_type": "markdown",
   "metadata": {},
   "source": [
    "**A for-loop with conditional skips**"
   ]
  },
  {
   "cell_type": "code",
   "execution_count": 31,
   "metadata": {
    "collapsed": false
   },
   "outputs": [
    {
     "name": "stdout",
     "output_type": "stream",
     "text": [
      "0.) None\n",
      "2.) 42.0\n"
     ]
    }
   ],
   "source": [
    "for i, obj in enumerate([a, b, c]):\n",
    "    if i == 1:\n",
    "        continue\n",
    "    else:\n",
    "        print \"%i.) %s\" % (i, obj)"
   ]
  },
  {
   "cell_type": "markdown",
   "metadata": {},
   "source": [
    "**A for-loop with conditional stops**"
   ]
  },
  {
   "cell_type": "code",
   "execution_count": 10,
   "metadata": {
    "collapsed": false
   },
   "outputs": [
    {
     "name": "stdout",
     "output_type": "stream",
     "text": [
      "0.) 1\n",
      "1.) Hello world\n"
     ]
    }
   ],
   "source": [
    "for i, obj in enumerate([a, b, c]):\n",
    "    if i == 2:\n",
    "        break\n",
    "    else:\n",
    "        print \"%i.) %s\" % (i, obj)"
   ]
  },
  {
   "cell_type": "markdown",
   "metadata": {},
   "source": [
    "**A while-loop (same control flow rules)**"
   ]
  },
  {
   "cell_type": "code",
   "execution_count": 32,
   "metadata": {
    "collapsed": false
   },
   "outputs": [
    {
     "name": "stdout",
     "output_type": "stream",
     "text": [
      "0\n",
      "1\n",
      "2\n",
      "3\n",
      "4\n",
      "5\n",
      "6\n",
      "7\n",
      "8\n",
      "9\n"
     ]
    }
   ],
   "source": [
    "i = 0\n",
    "while i < 10:\n",
    "    print i\n",
    "    i += 1\n",
    "    \n",
    "    "
   ]
  },
  {
   "cell_type": "markdown",
   "metadata": {},
   "source": [
    "Now ... how do we declare functions in Python?\n",
    "\n",
    "A **function** is any self-contained body of code that takes some input, execute some code, and then generate output (much like a mathematical function!). \n",
    "\n",
    "Functions can be declared like so:"
   ]
  },
  {
   "cell_type": "code",
   "execution_count": 9,
   "metadata": {
    "collapsed": true
   },
   "outputs": [],
   "source": [
    "def f(x):\n",
    "    return x\n",
    "\n",
    "def g(x, y):\n",
    "    return x * y\n",
    "\n",
    "def h(x, y, z):\n",
    "    # note: x**2 ==> x^2\n",
    "    return (x**y)/z"
   ]
  },
  {
   "cell_type": "markdown",
   "metadata": {},
   "source": [
    "... and, more usefully, they can be called like so: "
   ]
  },
  {
   "cell_type": "code",
   "execution_count": null,
   "metadata": {
    "collapsed": true
   },
   "outputs": [],
   "source": [
    "f(5)\n",
    "g(2,5)\n",
    "h(2,3,4)"
   ]
  },
  {
   "cell_type": "markdown",
   "metadata": {},
   "source": [
    "## Functional Programming\n",
    "\n",
    "The real power of Python comes in the ability to execute quick, \"on the fly\" functional commands (i.e. focusing on functional expressions, not objects).\n",
    "\n",
    "Some features in Python that are highly functional in nature:\n",
    "\n",
    "* **lambda functions** - small, highly reusable functions that you can pass around as objects.\n",
    "* **map, reduce, filter** - second order functions to *apply* functions to data structures."
   ]
  },
  {
   "cell_type": "markdown",
   "metadata": {},
   "source": [
    "**Lambda functions**"
   ]
  },
  {
   "cell_type": "code",
   "execution_count": 34,
   "metadata": {
    "collapsed": false
   },
   "outputs": [
    {
     "name": "stdout",
     "output_type": "stream",
     "text": [
      "4\n",
      "2\n"
     ]
    }
   ],
   "source": [
    "f = lambda x: x * 2\n",
    "g = lambda x,y: x - y\n",
    "\n",
    "print f(2)\n",
    "print g(10,8)"
   ]
  },
  {
   "cell_type": "markdown",
   "metadata": {},
   "source": [
    "**Map, reduce, filter**"
   ]
  },
  {
   "cell_type": "code",
   "execution_count": 35,
   "metadata": {
    "collapsed": false
   },
   "outputs": [
    {
     "data": {
      "text/plain": [
       "[2, 4, 6]"
      ]
     },
     "execution_count": 35,
     "metadata": {},
     "output_type": "execute_result"
    }
   ],
   "source": [
    "map(f, [1,2,3])"
   ]
  },
  {
   "cell_type": "code",
   "execution_count": 36,
   "metadata": {
    "collapsed": false
   },
   "outputs": [
    {
     "data": {
      "text/plain": [
       "-5"
      ]
     },
     "execution_count": 36,
     "metadata": {},
     "output_type": "execute_result"
    }
   ],
   "source": [
    "reduce(g, [1,2,3], 1)"
   ]
  },
  {
   "cell_type": "code",
   "execution_count": 37,
   "metadata": {
    "collapsed": false
   },
   "outputs": [
    {
     "data": {
      "text/plain": [
       "['snake', 'viper']"
      ]
     },
     "execution_count": 37,
     "metadata": {},
     "output_type": "execute_result"
    }
   ],
   "source": [
    "filter(lambda x: \"e\" in x, [\"snake\", \"cobra\", \"viper\"] )"
   ]
  },
  {
   "cell_type": "markdown",
   "metadata": {
    "collapsed": true
   },
   "source": [
    "## Misc\n",
    "\n",
    "Now that we have the basic units down, we introduce some more intermediate concepts that are crucial for both *efficient* and *bug-free* programming.\n",
    "\n",
    "These are:\n",
    "\n",
    "* Exception handling\n",
    "* List comprehensions\n",
    "\n"
   ]
  },
  {
   "cell_type": "markdown",
   "metadata": {},
   "source": [
    "### Exception handling\n",
    "\n",
    "What is an **exception**? Let's find out:"
   ]
  },
  {
   "cell_type": "code",
   "execution_count": 38,
   "metadata": {
    "collapsed": false
   },
   "outputs": [
    {
     "ename": "IndexError",
     "evalue": "list index out of range",
     "output_type": "error",
     "traceback": [
      "\u001b[0;31m---------------------------------------------------------------------------\u001b[0m",
      "\u001b[0;31mIndexError\u001b[0m                                Traceback (most recent call last)",
      "\u001b[0;32m<ipython-input-38-dadeedb6e94a>\u001b[0m in \u001b[0;36m<module>\u001b[0;34m()\u001b[0m\n\u001b[0;32m----> 1\u001b[0;31m \u001b[0;32mprint\u001b[0m \u001b[0;34m[\u001b[0m\u001b[0;34m\"a\"\u001b[0m\u001b[0;34m,\u001b[0m \u001b[0;34m\"b\"\u001b[0m\u001b[0;34m,\u001b[0m \u001b[0;34m\"c\"\u001b[0m\u001b[0;34m]\u001b[0m\u001b[0;34m[\u001b[0m\u001b[0;36m4\u001b[0m\u001b[0;34m]\u001b[0m\u001b[0;34m\u001b[0m\u001b[0m\n\u001b[0m",
      "\u001b[0;31mIndexError\u001b[0m: list index out of range"
     ]
    }
   ],
   "source": [
    "print [\"a\", \"b\", \"c\"][4]"
   ]
  },
  {
   "cell_type": "markdown",
   "metadata": {},
   "source": [
    "From the docs:\n",
    "    \n",
    "An **exception** is an event, which occurs during the execution of a program that disrupts the normal flow of the program's instructions. In general, when a Python script encounters a situation that it cannot cope with, it raises an exception. An exception is a Python object that represents an **error**.\n",
    "\n",
    "So how do we handle exceptions?\n",
    "\n",
    "... We do exactly that - handle them, but in specified ways:"
   ]
  },
  {
   "cell_type": "code",
   "execution_count": 39,
   "metadata": {
    "collapsed": false
   },
   "outputs": [
    {
     "name": "stdout",
     "output_type": "stream",
     "text": [
      "Oops! Won't do it again...\n"
     ]
    }
   ],
   "source": [
    "try:\n",
    "    # You generally 'try' something\n",
    "    # that might be at risk of exception\n",
    "    print [\"a\", \"b\", \"c\"][4]\n",
    "except:\n",
    "    # You handle your exception here\n",
    "    print \"Oops! Won't do it again...\""
   ]
  },
  {
   "cell_type": "markdown",
   "metadata": {},
   "source": [
    "In reality, you typically want to do in the `except` clause that will carry the program onwards and not cause it to exit / crash."
   ]
  },
  {
   "cell_type": "code",
   "execution_count": 40,
   "metadata": {
    "collapsed": false
   },
   "outputs": [
    {
     "name": "stdout",
     "output_type": "stream",
     "text": [
      "Oops .. trying i=4\n",
      "Oops .. trying i=3\n",
      "Oops .. trying i=2\n",
      "c\n",
      "OK!\n"
     ]
    }
   ],
   "source": [
    "success = False\n",
    "i = 5\n",
    "while not success:\n",
    "    try:\n",
    "        print [\"a\", \"b\", \"c\"][i]\n",
    "        success = True\n",
    "    except:\n",
    "        i -= 1\n",
    "        print \"Oops .. trying i=%i\" % i\n",
    "print \"OK!\""
   ]
  },
  {
   "cell_type": "markdown",
   "metadata": {},
   "source": [
    "### List Comprehensions\n",
    "\n",
    "And what are **list comprehensions**?\n",
    "\n",
    "Recall mathematical notation that typically describe collections of things:\n",
    "\n",
    "```\n",
    "    S = {x² : x in {0 ... 9}}\n",
    "    V = (1, 2, 4, 8, ..., 2¹²)\n",
    "    M = {x | x in S and x even}\n",
    "```\n",
    "\n",
    "In Python, you can *create lists using this notation* - using list comprehensions:"
   ]
  },
  {
   "cell_type": "code",
   "execution_count": 41,
   "metadata": {
    "collapsed": false
   },
   "outputs": [
    {
     "name": "stdout",
     "output_type": "stream",
     "text": [
      "[0, 1, 4, 9, 16, 25, 36, 49, 64]\n"
     ]
    }
   ],
   "source": [
    "S = [x**2 for x in range(0,9)]\n",
    "V = [2**i for i in range(13)]\n",
    "M = [x for x in S if x % 2 == 0]"
   ]
  },
  {
   "cell_type": "markdown",
   "metadata": {},
   "source": [
    "List comprehensions allow you to very easily create powerful mappings from the basic data structures you have to the sets you want. "
   ]
  },
  {
   "cell_type": "code",
   "execution_count": 42,
   "metadata": {
    "collapsed": false
   },
   "outputs": [
    {
     "name": "stdout",
     "output_type": "stream",
     "text": [
      "['THE', 'the', 3]\n",
      "['QUICK', 'quick', 5]\n",
      "['BROWN', 'brown', 5]\n",
      "['FOX', 'fox', 3]\n",
      "['JUMPS', 'jumps', 5]\n",
      "['OVER', 'over', 4]\n",
      "['THE', 'the', 3]\n",
      "['LAZY', 'lazy', 4]\n",
      "['DOG', 'dog', 3]\n"
     ]
    }
   ],
   "source": [
    "words = ['The', 'quick', 'brown', 'fox', 'jumps', 'over', 'the', 'lazy', 'dog']\n",
    "mapping = [[w.upper(), w.lower(), len(w)] for w in words]\n",
    "\n",
    "for word in mapping:\n",
    "     print word"
   ]
  },
  {
   "cell_type": "markdown",
   "metadata": {},
   "source": [
    "That wraps up the basics of Python! We conclude by explaining two utilites that allow for easy IO (input/output) operations."
   ]
  },
  {
   "cell_type": "markdown",
   "metadata": {},
   "source": [
    "## Reading and writing\n",
    "\n",
    "It is important to know how to read and write to files using Python. However, for most data analysis and collection tasks, the **Pandas** library can do most of the heavy lifting for you. "
   ]
  },
  {
   "cell_type": "markdown",
   "metadata": {},
   "source": [
    "**Basic file writing and reading in Python**\n"
   ]
  },
  {
   "cell_type": "code",
   "execution_count": 2,
   "metadata": {
    "collapsed": false
   },
   "outputs": [
    {
     "name": "stdout",
     "output_type": "stream",
     "text": [
      "OK write.\n",
      " Hello darkness my old friend\n",
      "OK read.\n"
     ]
    }
   ],
   "source": [
    "with open(\"1.txt\", \"w\") as f:\n",
    "     f.write(\" Hello darkness my old friend\")\n",
    "     print \"OK write.\"\n",
    "\n",
    "with open(\"1.txt\", \"r\") as f:\n",
    "    print f.read()\n",
    "    print \"OK read.\""
   ]
  },
  {
   "cell_type": "markdown",
   "metadata": {},
   "source": [
    "A file called `1.txt` will now have been created in the same directory as this notebook!\n",
    "\n",
    "But yikes, I want to read in csv files (i.e. actual data), how can I do that more easily?"
   ]
  },
  {
   "cell_type": "markdown",
   "metadata": {},
   "source": [
    "**Basic data writing and reading using Pandas**\n"
   ]
  },
  {
   "cell_type": "code",
   "execution_count": 3,
   "metadata": {
    "collapsed": false
   },
   "outputs": [
    {
     "name": "stdout",
     "output_type": "stream",
     "text": [
      "   name  age  score\n",
      "0   Tim   10     90\n",
      "1  Matt   20     83\n",
      "2  Jill   12     92\n"
     ]
    }
   ],
   "source": [
    "import pandas as pd\n",
    "\n",
    "raw_data = {\n",
    "    # Dictionary!\n",
    "    \"name\"  : [\"Tim\", \"Matt\", \"Jill\"],\n",
    "    \"age\"   : [10, 20, 12],\n",
    "    \"score\" : [90, 83, 92]\n",
    "}\n",
    "\n",
    "df = pd.DataFrame(raw_data, columns=[\"name\", \"age\", \"score\"])\n",
    "\n",
    "print df\n",
    "\n",
    "df.to_csv(\"pd_test.csv\")\n"
   ]
  },
  {
   "cell_type": "markdown",
   "metadata": {},
   "source": [
    "Pandas is an extremely powerful data analyis tool that combines R's 'data frame' style of data manipulation with SQL functionality and built-in data visualization + statistics.\n",
    "\n",
    "Learn more about Pandas:\n",
    "\n",
    "http://pandas.pydata.org/pandas-docs/stable/"
   ]
  },
  {
   "cell_type": "markdown",
   "metadata": {},
   "source": [
    "## Other libraries\n",
    "\n",
    "A list of other essential Python libraries for advanced Python users:\n",
    "\n",
    "* `sys`/`os` - Perform functionalities that your system / OS provides (e.g. execute bash scripts, navigate filesystem).\n",
    "* `csv` - Read/write + interface with csv files on a low level.\n",
    "* `urllib2` - Perform HTTP requests.\n",
    "* `math` - Basic mathematical operations and expressions (e.g. pi, e, inf)\n",
    "* `random` - Useful for random sampling and shuffling.\n",
    "* `datetime` - Parsing and creating dates.\n",
    "* `sqlite3` - Work with SQLLite databases.\n",
    "* `joblib` - Execute parallel functions.\n"
   ]
  }
 ],
 "metadata": {
  "kernelspec": {
   "display_name": "Python 2",
   "language": "python",
   "name": "python2"
  },
  "language_info": {
   "codemirror_mode": {
    "name": "ipython",
    "version": 2
   },
   "file_extension": ".py",
   "mimetype": "text/x-python",
   "name": "python",
   "nbconvert_exporter": "python",
   "pygments_lexer": "ipython2",
   "version": "2.7.13"
  }
 },
 "nbformat": 4,
 "nbformat_minor": 1
}
